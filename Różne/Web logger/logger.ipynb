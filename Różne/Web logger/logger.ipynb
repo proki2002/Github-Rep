{
 "cells": [
  {
   "cell_type": "code",
   "execution_count": 5,
   "metadata": {},
   "outputs": [],
   "source": [
    "import time\n",
    "from selenium import webdriver\n",
    "from selenium.webdriver.chrome.service import Service\n",
    "from selenium.webdriver.common.by import By\n",
    "import logger"
   ]
  },
  {
   "cell_type": "code",
   "execution_count": 6,
   "metadata": {},
   "outputs": [],
   "source": [
    "class Browser:\n",
    "    browser, service = None, None \n",
    "\n",
    "    def __init__(self, driver: str):\n",
    "        self.service = Service(driver)\n",
    "        self.browser = webdriver.Chrome(service=self.service)\n",
    "    \n",
    "    def open_page(self, url: str):\n",
    "        self.browser.get(url)\n",
    "    \n",
    "    def close_browser(self):\n",
    "        self.browser.close()\n",
    "        \n",
    "    def add_input(self, by: By , value: str, text: str):\n",
    "        field = self.browser.find_element(by=by, value=value)\n",
    "        field.send_keys(text)\n",
    "        time.sleep(1)\n",
    "\n",
    "    def click_button(self, by: By , value: str):\n",
    "        button= self.browser.find_element(by=by, value=value)\n",
    "        button.click()\n",
    "        time.sleep(1)\n",
    "\n",
    "    def login_linkedin(self, username: str, password: str):\n",
    "        self.add_input(by=By.ID, value='session_key', text=username)\n",
    "        self.add_input(by=By.ID, value='session_password', text=password)\n",
    "        self.click_button(by=By.CLASS_NAME, value='sign-in-form__submit-button')\n"
   ]
  },
  {
   "cell_type": "code",
   "execution_count": 7,
   "metadata": {},
   "outputs": [],
   "source": [
    "\n",
    "if __name__ == '__main__':\n",
    "    browser = Browser('Drivers\\chromedriver.exe')\n",
    "\n",
    "    browser.open_page('https://pl.linkedin.com/')\n",
    "    time.sleep(3)\n",
    "    \n",
    "    browser.login_linkedin(username='janglin123456@gmail.com', password='janglin2137')\n",
    "    time.sleep(5)\n",
    "    \n",
    "    browser.close_browser()     "
   ]
  }
 ],
 "metadata": {
  "kernelspec": {
   "display_name": "Python 3.10.4 64-bit",
   "language": "python",
   "name": "python3"
  },
  "language_info": {
   "codemirror_mode": {
    "name": "ipython",
    "version": 3
   },
   "file_extension": ".py",
   "mimetype": "text/x-python",
   "name": "python",
   "nbconvert_exporter": "python",
   "pygments_lexer": "ipython3",
   "version": "3.10.4"
  },
  "orig_nbformat": 4,
  "vscode": {
   "interpreter": {
    "hash": "27667adf5d1fed367a509f6d4a408e61128ecf70a8b1521d1b6e1db3ae1a56cb"
   }
  }
 },
 "nbformat": 4,
 "nbformat_minor": 2
}
