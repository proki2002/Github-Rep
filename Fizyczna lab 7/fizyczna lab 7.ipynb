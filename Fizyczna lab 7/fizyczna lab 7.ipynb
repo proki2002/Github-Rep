{
 "cells": [
  {
   "cell_type": "code",
   "execution_count": 88,
   "metadata": {},
   "outputs": [],
   "source": [
    "from matplotlib import pyplot as plt\n",
    "import numpy as np\n",
    "from scipy.constants import N_A, epsilon_0, k"
   ]
  },
  {
   "cell_type": "code",
   "execution_count": 89,
   "metadata": {},
   "outputs": [],
   "source": [
    "C_0=0.13\n",
    "sub=np.array(['toluen',\n",
    "'para ksylen',\n",
    "'meta ksylen',\n",
    "'orto ksylen',\n",
    "'chlorobenzen',\n",
    "'chloroform'])\n",
    "C=np.array([0.27,\n",
    "0.25,\n",
    "0.26,\n",
    "0.28,\n",
    "0.55,\n",
    "0.59])\n",
    "n=np.array([1.4969,\n",
    "1.4938,\n",
    "1.4939,\n",
    "1.5018,\n",
    "1.5199,\n",
    "1.4419])\n",
    "M=np.array([92.14,\n",
    "106.16,\n",
    "106.16,\n",
    "106.16,\n",
    "112.56,\n",
    "119.38])\n",
    "M=M*0.001\n",
    "rho=np.array([0.8623,\n",
    "0.8565,\n",
    "0.8598,\n",
    "0.8755,\n",
    "1.1058,\n",
    "1.4788])\n",
    "eps_pk=2.27\n",
    "T=298"
   ]
  },
  {
   "cell_type": "code",
   "execution_count": 90,
   "metadata": {},
   "outputs": [
    {
     "data": {
      "text/plain": [
       "array([2.48166667, 2.27      , 2.37583333, 2.5875    , 5.445     ,\n",
       "       5.86833333])"
      ]
     },
     "execution_count": 90,
     "metadata": {},
     "output_type": "execute_result"
    }
   ],
   "source": [
    "eps=(eps_pk*(C-C_0)-(C-C[1]))/(C[1]-C_0)\n",
    "eps"
   ]
  },
  {
   "cell_type": "code",
   "execution_count": 91,
   "metadata": {},
   "outputs": [
    {
     "data": {
      "text/plain": [
       "array([0.03532651, 0.03686459, 0.03882116, 0.04196067, 0.06077354,\n",
       "       0.04994818])"
      ]
     },
     "execution_count": 91,
     "metadata": {},
     "output_type": "execute_result"
    }
   ],
   "source": [
    "P_m=(eps-1)*M/((eps+2)*rho)\n",
    "#P_m=P_m*1000000 #[m^3/mol]\n",
    "P_m"
   ]
  },
  {
   "cell_type": "code",
   "execution_count": 92,
   "metadata": {},
   "outputs": [
    {
     "data": {
      "text/plain": [
       "array([0.03126234, 0.036071  , 0.03593874, 0.03577233, 0.03094024,\n",
       "       0.02135562])"
      ]
     },
     "execution_count": 92,
     "metadata": {},
     "output_type": "execute_result"
    }
   ],
   "source": [
    "R=((n**2-1)*M)/((n**2+2)*rho)\n",
    "#R=R*1000000    #[m^3/mol]\n",
    "R"
   ]
  },
  {
   "cell_type": "code",
   "execution_count": 93,
   "metadata": {},
   "outputs": [
    {
     "data": {
      "text/plain": [
       "(array([4.70388030e-29, 2.07857973e-29, 3.96140022e-29, 5.80439380e-29,\n",
       "        1.27444359e-28, 1.24766058e-28]),\n",
       " array([14.1018824 ,  6.23142703, 11.87598247, 17.40113981, 38.20686858,\n",
       "        37.40393399]))"
      ]
     },
     "execution_count": 93,
     "metadata": {},
     "output_type": "execute_result"
    }
   ],
   "source": [
    "mu=(9*epsilon_0*k*T*(P_m-R)/N_A)**(1/2)  #[C*m]\n",
    "mu_D=mu/(3.33564*10**(-30))              #[D]\n",
    "mu, mu_D"
   ]
  },
  {
   "cell_type": "code",
   "execution_count": null,
   "metadata": {},
   "outputs": [],
   "source": []
  }
 ],
 "metadata": {
  "kernelspec": {
   "display_name": "Python 3.9.13 ('base')",
   "language": "python",
   "name": "python3"
  },
  "language_info": {
   "codemirror_mode": {
    "name": "ipython",
    "version": 3
   },
   "file_extension": ".py",
   "mimetype": "text/x-python",
   "name": "python",
   "nbconvert_exporter": "python",
   "pygments_lexer": "ipython3",
   "version": "3.9.13"
  },
  "orig_nbformat": 4,
  "vscode": {
   "interpreter": {
    "hash": "2cdd6f69fc207ea59adbf85df52271823ef95583e4ba7a186f1887986724f65a"
   }
  }
 },
 "nbformat": 4,
 "nbformat_minor": 2
}
