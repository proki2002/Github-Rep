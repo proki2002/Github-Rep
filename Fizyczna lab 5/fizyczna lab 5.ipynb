{
 "cells": [
  {
   "cell_type": "code",
   "execution_count": 40,
   "metadata": {},
   "outputs": [],
   "source": [
    "import numpy as np \n",
    "from matplotlib import pyplot as plt \n",
    "import pandas as pd "
   ]
  },
  {
   "cell_type": "code",
   "execution_count": 41,
   "metadata": {},
   "outputs": [
    {
     "data": {
      "text/plain": [
       "[array([1., 2., 3., 4., 5., 6., 7.]),\n",
       " array([30.74, 31.4 , 30.73, 30.25, 30.14, 25.88, 31.7 ]),\n",
       " array([20., 19., 21., 22., 19., 20., 20.]),\n",
       " array([51.04, 48.48, 48.26, 48.37, 51.66, 49.4 , 49.63]),\n",
       " array([21., 21., 20., 25., 20., 24., 23.]),\n",
       " array([58.18, 55.76, 55.26, 55.03, 58.39, 53.69, 56.1 ]),\n",
       " array([30., 25., 20., 15., 10.,  5.,  0.]),\n",
       " array([ 0.,  5., 10., 15., 20., 25., 30.])]"
      ]
     },
     "execution_count": 41,
     "metadata": {},
     "output_type": "execute_result"
    }
   ],
   "source": [
    "f = pd.read_excel('kopia 21.xlsx')\n",
    "f = [np.array(f[f.columns[x]].values.tolist()) for x in range(8)]\n",
    "c=[list(range(20,26)),[0.99821, 0.99800, 0.99777, 0.99754, 0.99730, 0.99705]]\n",
    "f"
   ]
  },
  {
   "cell_type": "code",
   "execution_count": 42,
   "metadata": {},
   "outputs": [],
   "source": [
    "masa_wody=f[5]-f[1]\n",
    "masa_org=f[3]-f[1]\n",
    "rho_wody=[]\n",
    "for i in range(len(f[4])):\n",
    "    rho_wody.append(i)\n",
    "    for j in range(len(c[1])):    \n",
    "        if c[0][j]==f[4][i]:\n",
    "            rho_wody[i]=c[1][j]\n",
    "rho_wody=np.array(rho_wody)\n",
    "rho_org=masa_org*rho_wody/masa_wody"
   ]
  },
  {
   "cell_type": "code",
   "execution_count": 48,
   "metadata": {},
   "outputs": [
    {
     "data": {
      "text/plain": [
       "array([1., 1., 1., 1., 1., 1., 1.])"
      ]
     },
     "execution_count": 48,
     "metadata": {},
     "output_type": "execute_result"
    }
   ],
   "source": [
    "M_act=58.08\n",
    "M_hex=86.18\n",
    "n_act=f[7]*rho_org[6]/M_act\n",
    "n_hex=f[6]*rho_org[0]/M_hex\n",
    "chi_act=n_act/(n_act+n_hex)\n",
    "chi_hex=n_hex/(n_act+n_hex)"
   ]
  },
  {
   "cell_type": "code",
   "execution_count": 53,
   "metadata": {},
   "outputs": [
    {
     "data": {
      "text/plain": [
       "array([  0.        ,   5.82716823,   3.27865848,   0.85379393,\n",
       "        -2.98910302, -10.87261226,   0.        ])"
      ]
     },
     "execution_count": 53,
     "metadata": {},
     "output_type": "execute_result"
    }
   ],
   "source": [
    "nadmiar_obj=chi_act*M_act*((1/rho_org)-(1/rho_org[6]))+chi_hex*M_hex*((1/rho_org)-(1/rho_org[0]))\n",
    "nadmiar_obj"
   ]
  },
  {
   "cell_type": "code",
   "execution_count": 59,
   "metadata": {},
   "outputs": [
    {
     "data": {
      "image/png": "[encoded data removed]",
      "text/plain": [
       "<Figure size 640x480 with 1 Axes>"
      ]
     },
     "metadata": {},
     "output_type": "display_data"
    }
   ],
   "source": [
    "plt.scatter(chi_act,nadmiar_obj,marker='.',color='r')\n",
    "plt.style.use('seaborn-whitegrid')\n",
    "plt.show()"
   ]
  },
  {
   "cell_type": "code",
   "execution_count": null,
   "metadata": {},
   "outputs": [],
   "source": []
  }
 ],
 "metadata": {
  "kernelspec": {
   "display_name": "Python 3.9.13 ('base')",
   "language": "python",
   "name": "python3"
  },
  "language_info": {
   "codemirror_mode": {
    "name": "ipython",
    "version": 3
   },
   "file_extension": ".py",
   "mimetype": "text/x-python",
   "name": "python",
   "nbconvert_exporter": "python",
   "pygments_lexer": "ipython3",
   "version": "3.9.13"
  },
  "orig_nbformat": 4,
  "vscode": {
   "interpreter": {
    "hash": "2cdd6f69fc207ea59adbf85df52271823ef95583e4ba7a186f1887986724f65a"
   }
  }
 },
 "nbformat": 4,
 "nbformat_minor": 2
}
