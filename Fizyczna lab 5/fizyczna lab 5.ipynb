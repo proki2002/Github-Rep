{
 "cells": [
  {
   "cell_type": "code",
   "execution_count": 16,
   "metadata": {},
   "outputs": [],
   "source": [
    "import numpy as np \n",
    "from matplotlib import pyplot as plt \n",
    "import pandas as pd "
   ]
  },
  {
   "cell_type": "code",
   "execution_count": 17,
   "metadata": {},
   "outputs": [],
   "source": [
    "f = pd.read_excel('kopia 21.xlsx')\n",
    "f = [np.array(f[f.columns[x]].values.tolist()) for x in range(7)]\n",
    "c=[list(range(20,26)),[0.99821, 0.99800, 0.99777, 0.99754, 0.99730, 0.99705]]"
   ]
  },
  {
   "cell_type": "code",
   "execution_count": 31,
   "metadata": {},
   "outputs": [
    {
     "data": {
      "text/plain": [
       "array([0.73831633, 0.69974713, 0.71335594, 0.72907772, 0.76040634,\n",
       "       0.84345545, 0.73302837])"
      ]
     },
     "execution_count": 31,
     "metadata": {},
     "output_type": "execute_result"
    }
   ],
   "source": [
    "masa_wody=f[5]-f[1]\n",
    "masa_org=f[3]-f[1]\n",
    "rho_wody=[]\n",
    "for i in range(len(f[4])):\n",
    "    rho_wody.append(i)\n",
    "    for j in range(len(c[1])):    \n",
    "        if c[0][j]==f[4][i]:\n",
    "            rho_wody[i]=c[1][j]\n",
    "rho_org=masa_org*rho_wody/masa_wody"
   ]
  },
  {
   "cell_type": "code",
   "execution_count": 29,
   "metadata": {},
   "outputs": [
    {
     "data": {
      "text/plain": [
       "([0.998, 0.998, 0.99821, 0.99705, 0.99821, 0.9973, 0.99754],\n",
       " [[20, 21, 22, 23, 24, 25],\n",
       "  [0.99821, 0.998, 0.99777, 0.99754, 0.9973, 0.99705]],\n",
       " array([21., 21., 20., 25., 20., 24., 23.]))"
      ]
     },
     "execution_count": 29,
     "metadata": {},
     "output_type": "execute_result"
    }
   ],
   "source": [
    "\n"
   ]
  },
  {
   "cell_type": "code",
   "execution_count": null,
   "metadata": {},
   "outputs": [],
   "source": []
  }
 ],
 "metadata": {
  "kernelspec": {
   "display_name": "Python 3.9.13 ('base')",
   "language": "python",
   "name": "python3"
  },
  "language_info": {
   "codemirror_mode": {
    "name": "ipython",
    "version": 3
   },
   "file_extension": ".py",
   "mimetype": "text/x-python",
   "name": "python",
   "nbconvert_exporter": "python",
   "pygments_lexer": "ipython3",
   "version": "3.9.13"
  },
  "orig_nbformat": 4,
  "vscode": {
   "interpreter": {
    "hash": "2cdd6f69fc207ea59adbf85df52271823ef95583e4ba7a186f1887986724f65a"
   }
  }
 },
 "nbformat": 4,
 "nbformat_minor": 2
}
