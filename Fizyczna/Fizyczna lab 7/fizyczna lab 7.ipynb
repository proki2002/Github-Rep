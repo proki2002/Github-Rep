{
 "cells": [
  {
   "cell_type": "code",
   "execution_count": 1,
   "metadata": {},
   "outputs": [],
   "source": [
    "from matplotlib import pyplot as plt\n",
    "import numpy as np\n",
    "from scipy.constants import N_A, epsilon_0, k"
   ]
  },
  {
   "cell_type": "code",
   "execution_count": 2,
   "metadata": {},
   "outputs": [],
   "source": [
    "C_0=0.13\n",
    "sub=np.array(['toluen',\n",
    "'para ksylen',\n",
    "'meta ksylen',\n",
    "'orto ksylen',\n",
    "'chlorobenzen',\n",
    "'chloroform'])\n",
    "C=np.array([0.27,\n",
    "0.25,\n",
    "0.26,\n",
    "0.28,\n",
    "0.55,\n",
    "0.59])\n",
    "n=np.array([1.4969,\n",
    "1.4938,\n",
    "1.4939,\n",
    "1.5018,\n",
    "1.5199,\n",
    "1.4419])\n",
    "M=np.array([92.14,\n",
    "106.16,\n",
    "106.16,\n",
    "106.16,\n",
    "112.56,\n",
    "119.38])\n",
    "M=M/1000\n",
    "rho=np.array([0.8623,\n",
    "0.8565,\n",
    "0.8598,\n",
    "0.8755,\n",
    "1.1058,\n",
    "1.4788])\n",
    "rho=rho*1000\n",
    "eps_pk=2.27\n",
    "T=298"
   ]
  },
  {
   "cell_type": "code",
   "execution_count": 3,
   "metadata": {},
   "outputs": [
    {
     "data": {
      "text/plain": [
       "array([2.48166667, 2.27      , 2.37583333, 2.5875    , 5.445     ,\n",
       "       5.86833333])"
      ]
     },
     "execution_count": 3,
     "metadata": {},
     "output_type": "execute_result"
    }
   ],
   "source": [
    "eps=(eps_pk*(C-C_0)-(C-C[1]))/(C[1]-C_0)\n",
    "eps"
   ]
  },
  {
   "cell_type": "code",
   "execution_count": 4,
   "metadata": {},
   "outputs": [
    {
     "data": {
      "text/plain": [
       "array([3.53265138e-05, 3.68645883e-05, 3.88211614e-05, 4.19606702e-05,\n",
       "       6.07735439e-05, 4.99481824e-05])"
      ]
     },
     "execution_count": 4,
     "metadata": {},
     "output_type": "execute_result"
    }
   ],
   "source": [
    "P_m=(eps-1)*M/((eps+2)*rho)\n",
    "P_m"
   ]
  },
  {
   "cell_type": "code",
   "execution_count": 5,
   "metadata": {},
   "outputs": [
    {
     "data": {
      "text/plain": [
       "array([3.12623365e-05, 3.60710033e-05, 3.59387395e-05, 3.57723346e-05,\n",
       "       3.09402400e-05, 2.13556234e-05])"
      ]
     },
     "execution_count": 5,
     "metadata": {},
     "output_type": "execute_result"
    }
   ],
   "source": [
    "R=((n**2-1)*M)/((n**2+2)*rho)\n",
    "#R=R*1000000    #[m^3/mol]\n",
    "R"
   ]
  },
  {
   "cell_type": "code",
   "execution_count": 6,
   "metadata": {},
   "outputs": [
    {
     "data": {
      "text/plain": [
       "(array([1.48749756e-30, 6.57304623e-31, 1.25270474e-30, 1.83551048e-30,\n",
       "        4.03014450e-30, 3.94544919e-30]),\n",
       " array([0.44594068, 0.19705502, 0.37555154, 0.55027236, 1.20820727,\n",
       "        1.18281625]))"
      ]
     },
     "execution_count": 6,
     "metadata": {},
     "output_type": "execute_result"
    }
   ],
   "source": [
    "mu=(9*epsilon_0*k*T*(P_m-R)/N_A)**(1/2)  #[C*m]\n",
    "mu_D=mu/(3.33564*10**(-30))              #[D]\n",
    "mu, mu_D"
   ]
  },
  {
   "cell_type": "code",
   "execution_count": 12,
   "metadata": {},
   "outputs": [
    {
     "data": {
      "text/plain": [
       "(array([ 14.34376328, 885.27512433,  25.18384686,   6.73349882,\n",
       "         22.55081604,   2.85358683]),\n",
       " 159.49010602694227,\n",
       " 14.3331023669465)"
      ]
     },
     "execution_count": 12,
     "metadata": {},
     "output_type": "execute_result"
    }
   ],
   "source": [
    "mu_lit=np.array([0.39,0.02,0.30,0.59,1.56,1.15])\n",
    "proc=abs(mu_D-mu_lit)/mu_lit*100\n",
    "\n",
    "proc, np.mean(proc), np.mean(np.delete(proc, 1))"
   ]
  },
  {
   "cell_type": "code",
   "execution_count": null,
   "metadata": {},
   "outputs": [],
   "source": []
  }
 ],
 "metadata": {
  "kernelspec": {
   "display_name": "Python 3.9.13 ('base')",
   "language": "python",
   "name": "python3"
  },
  "language_info": {
   "codemirror_mode": {
    "name": "ipython",
    "version": 3
   },
   "file_extension": ".py",
   "mimetype": "text/x-python",
   "name": "python",
   "nbconvert_exporter": "python",
   "pygments_lexer": "ipython3",
   "version": "3.9.13 (main, Aug 25 2022, 23:51:50) [MSC v.1916 64 bit (AMD64)]"
  },
  "orig_nbformat": 4,
  "vscode": {
   "interpreter": {
    "hash": "2cdd6f69fc207ea59adbf85df52271823ef95583e4ba7a186f1887986724f65a"
   }
  }
 },
 "nbformat": 4,
 "nbformat_minor": 2
}
