{
 "cells": [
  {
   "cell_type": "code",
   "execution_count": 65,
   "metadata": {},
   "outputs": [],
   "source": [
    "import numpy as np\n",
    "from matplotlib import pyplot as plt"
   ]
  },
  {
   "cell_type": "code",
   "execution_count": 67,
   "metadata": {},
   "outputs": [
    {
     "data": {
      "text/plain": [
       "array([15.415, 15.6  , 16.52 , 17.385, 17.59 , 17.65 , 20.675])"
      ]
     },
     "execution_count": 67,
     "metadata": {},
     "output_type": "execute_result"
    }
   ],
   "source": [
    "class gaz:\n",
    "    def __init__(self, kolory, theta1, theta2):\n",
    "        self.kolory=np.array(kolory) \n",
    "        self.theta1=np.array(theta1)\n",
    "        self.theta2=np.array(theta2)\n",
    "    def alpha(self):\n",
    "        return abs(self.theta2-self.theta1)/2\n",
    "h1=['Fioletowy I',\n",
    "'Fioletowy II',\n",
    "'Niebieski',\n",
    "'Zielony I',\n",
    "'Zielony II',\n",
    "'Zielony III',\n",
    "'Żółty',]\n",
    "h2=[17.29,\n",
    "17.10,\n",
    "16.18,\n",
    "15.31,\n",
    "15.10,\n",
    "15.05,\n",
    "12.00]\n",
    "h3=[48.12,\n",
    "48.30,\n",
    "49.22,\n",
    "50.08,\n",
    "50.28,\n",
    "50.35,\n",
    "53.35]\n",
    "d1=['Niebieski',\n",
    "'Cyan',\n",
    "'Czerwony']\n",
    "d2=[17.38,\n",
    "15.43,\n",
    "9.22]\n",
    "d3=[48.01,\n",
    "49.93,\n",
    "56.08]\n",
    "hel=gaz(h1,h2,h3)\n",
    "deuter=gaz(d1,d2,d3)\n",
    "hel.Lambda=np.array([438.8,\n",
    "447.1,\n",
    "471.3,\n",
    "492.2,\n",
    "501.6,\n",
    "504.8,\n",
    "587.6])"
   ]
  },
  {
   "cell_type": "code",
   "execution_count": 68,
   "metadata": {},
   "outputs": [
    {
     "data": {
      "text/plain": [
       "array([1650.81247155, 1662.57733988, 1657.46428394, 1647.30551393,\n",
       "       1659.80857879, 1664.8989138 , 1664.27502337])"
      ]
     },
     "execution_count": 68,
     "metadata": {},
     "output_type": "execute_result"
    }
   ],
   "source": [
    "\n",
    "d=hel.Lambda/np.sin(hel.alpha()*np.pi/180)\n",
    "d"
   ]
  },
  {
   "cell_type": "code",
   "execution_count": null,
   "metadata": {},
   "outputs": [],
   "source": []
  }
 ],
 "metadata": {
  "kernelspec": {
   "display_name": "Python 3.9.13 ('base')",
   "language": "python",
   "name": "python3"
  },
  "language_info": {
   "codemirror_mode": {
    "name": "ipython",
    "version": 3
   },
   "file_extension": ".py",
   "mimetype": "text/x-python",
   "name": "python",
   "nbconvert_exporter": "python",
   "pygments_lexer": "ipython3",
   "version": "3.9.13 (main, Aug 25 2022, 23:51:50) [MSC v.1916 64 bit (AMD64)]"
  },
  "orig_nbformat": 4,
  "vscode": {
   "interpreter": {
    "hash": "2cdd6f69fc207ea59adbf85df52271823ef95583e4ba7a186f1887986724f65a"
   }
  }
 },
 "nbformat": 4,
 "nbformat_minor": 2
}
